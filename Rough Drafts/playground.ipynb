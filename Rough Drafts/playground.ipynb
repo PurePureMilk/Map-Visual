{
 "cells": [
  {
   "cell_type": "code",
   "execution_count": 1,
   "metadata": {},
   "outputs": [
    {
     "name": "stdout",
     "output_type": "stream",
     "text": [
      "https://nasagrace.unl.edu/data/20210628/rtzsm_perc_0125deg_US_20210628.tif\n"
     ]
    }
   ],
   "source": [
    "temp = \"https://nasagrace.unl.edu/data/20210628/####_perc_0125deg_US_********.tif\"\n",
    "\n",
    "date = 20210628; str_date = str(date);\n",
    "\n",
    "def get_url(str_url, date_input, layer):    \n",
    "    new_str = str_url.replace(\"********\", date_input)\n",
    "    new_str = new_str.replace(\"####\", layer)\n",
    "    return new_str\n",
    "\n",
    "sfsm_url = get_url(temp, str_date,\"rtzsm\")\n",
    "print(sfsm_url)"
   ]
  },
  {
   "cell_type": "code",
   "execution_count": null,
   "metadata": {},
   "outputs": [],
   "source": []
  }
 ],
 "metadata": {
  "kernelspec": {
   "display_name": "Python 3",
   "language": "python",
   "name": "python3"
  },
  "language_info": {
   "codemirror_mode": {
    "name": "ipython",
    "version": 3
   },
   "file_extension": ".py",
   "mimetype": "text/x-python",
   "name": "python",
   "nbconvert_exporter": "python",
   "pygments_lexer": "ipython3",
   "version": "3.7.6"
  }
 },
 "nbformat": 4,
 "nbformat_minor": 4
}
