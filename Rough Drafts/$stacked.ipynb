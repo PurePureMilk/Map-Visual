{
 "cells": [
  {
   "cell_type": "code",
   "execution_count": 1,
   "metadata": {},
   "outputs": [],
   "source": [
    "# imports\n",
    "from netCDF4 import Dataset as NetCDFFile\n",
    "\n",
    "# for projections manipulation\n",
    "import cartopy\n",
    "import cartopy.crs as ccrs\n",
    "\n",
    "import numpy as np\n",
    "import numpy.ma as ma\n",
    "import pandas as pd\n",
    "\n",
    "# plotting libraries\n",
    "import matplotlib.pyplot as plt\n",
    "import plotly.graph_objects as go\n",
    "\n",
    "import urllib\n",
    "import urllib.request\n"
   ]
  },
  {
   "cell_type": "code",
   "execution_count": 2,
   "metadata": {},
   "outputs": [
    {
     "ename": "SyntaxError",
     "evalue": "invalid syntax (<ipython-input-2-4691b954057e>, line 1)",
     "output_type": "error",
     "traceback": [
      "\u001b[1;36m  File \u001b[1;32m\"<ipython-input-2-4691b954057e>\"\u001b[1;36m, line \u001b[1;32m1\u001b[0m\n\u001b[1;33m    geography_file = NetCDFFile(GRACEDADM_CLSM0125US_7D.A20210628.030.nc4)\u001b[0m\n\u001b[1;37m                                                                    ^\u001b[0m\n\u001b[1;31mSyntaxError\u001b[0m\u001b[1;31m:\u001b[0m invalid syntax\n"
     ]
    }
   ],
   "source": [
    "geography_file = NetCDFFile(GRACEDADM_CLSM0125US_7D.A20210628.030.nc4)"
   ]
  },
  {
   "cell_type": "markdown",
   "metadata": {},
   "source": [
    "# 3D plot"
   ]
  },
  {
   "cell_type": "code",
   "execution_count": null,
   "metadata": {},
   "outputs": [],
   "source": [
    "k = 1\n",
    "# unpack data into variables\n",
    "lat = geography_file['lat'][::k]\n",
    "lon = geography_file['lon'][::k]\n",
    "\n",
    "gws = geography_file['gws_inst'][0, ::k, ::k]\n",
    "rtzsm = geography_file['rtzsm_inst'][0, ::k, ::k]\n",
    "sfsm = geography_file['sfsm_inst'][0, ::k, ::k]\n",
    "\n",
    "# create a meshgrid for plotting\n",
    "Lat, Lon = np.meshgrid(lat, lon)\n",
    "\n",
    "# put into dataframe. plotly likes dataframes\n",
    "data = pd.DataFrame(np.c_[Lat.T.flatten(), Lon.T.flatten(), gws.flatten()], columns=['Lat', 'Lon', 'gws'])\n",
    "\n",
    "# here we are using the meshgrids (notice \"Lon\", not \"lon\")\n",
    "# in order to display different levels we simply subtract a fixed value from all z coordinates of a layer\n",
    "# since we do not use special map projections here (or, to be me more precise, we use the equidistant cyllindrical projection),\n",
    "# we have a situation where the height of surfaces peak are too big compared to the scale of map\n",
    "# so we scale down the height manually\n",
    "gws_scale, rtzsm_scale, sfsm_scale = 20, 20, 20\n",
    "rtzsm_shift, sfsm_shift = 20, 40\n",
    "\n",
    "fig = go.Figure(data=[go.Surface(x=Lon, y=Lat, z=gws.filled(fill_value=np.nan).T / gws_scale,\n",
    "                                 name='Ground water levels', colorscale='RdBu', showscale=False),\n",
    "                      go.Surface(x=Lon, y=Lat, z=rtzsm.T.filled(fill_value=np.nan) / rtzsm_scale - rtzsm_shift,\n",
    "                                 name='Root zone soil moisture', colorscale='RdBu', showscale=False),\n",
    "                      go.Surface(x=Lon, y=Lat, z=sfsm.T.filled(fill_value=np.nan) / sfsm_scale - sfsm_shift,\n",
    "                                 name='Surface soil moisture', colorscale='RdBu', showscale=False)])\n",
    "\n",
    "fig.update_layout(title='USA map of ground waters', autosize=False,\n",
    "                  width=500, height=500,\n",
    "                  margin=dict(l=0, r=0, b=0, t=50), \n",
    "                  scene=dict(\n",
    "                      #aspectmode='data',\n",
    "                             xaxis=dict(title=dict(text='Lon'), \n",
    "                                        autorange='reversed'\n",
    "                                       ),\n",
    "                             yaxis=dict(title=dict(text='Lat'), \n",
    "                                        autorange='reversed'\n",
    "                                       ),\n",
    "                             zaxis=dict(title=dict(text='')),\n",
    "                            ),\n",
    ")\n",
    "fig.show()"
   ]
  }
 ],
 "metadata": {
  "kernelspec": {
   "display_name": "Python 3",
   "language": "python",
   "name": "python3"
  },
  "language_info": {
   "codemirror_mode": {
    "name": "ipython",
    "version": 3
   },
   "file_extension": ".py",
   "mimetype": "text/x-python",
   "name": "python",
   "nbconvert_exporter": "python",
   "pygments_lexer": "ipython3",
   "version": "3.7.6"
  }
 },
 "nbformat": 4,
 "nbformat_minor": 4
}
